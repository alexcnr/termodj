{
 "cells": [
  {
   "cell_type": "code",
   "execution_count": 41,
   "id": "a5d214d4",
   "metadata": {},
   "outputs": [],
   "source": [
    "import sqlite3"
   ]
  },
  {
   "cell_type": "code",
   "execution_count": 42,
   "id": "7caaf4fe",
   "metadata": {},
   "outputs": [],
   "source": [
    "conn = sqlite3.connect('tempdb-10.sqlite') #нет emaildb, создать файл при запуске\n",
    "cur = conn.cursor()"
   ]
  },
  {
   "cell_type": "code",
   "execution_count": 43,
   "id": "683f51b0",
   "metadata": {},
   "outputs": [
    {
     "name": "stdout",
     "output_type": "stream",
     "text": [
      "<sqlite3.Cursor object at 0x000002C27B68B0A0>\n"
     ]
    }
   ],
   "source": [
    "print(cur)"
   ]
  },
  {
   "cell_type": "code",
   "execution_count": 44,
   "id": "52a68d7f",
   "metadata": {},
   "outputs": [
    {
     "name": "stdout",
     "output_type": "stream",
     "text": [
      "(26.1, 299.25, 78.98, 45.0)\n"
     ]
    }
   ],
   "source": [
    "cur.execute('SELECT * FROM Results ') \n",
    "#КОРТЕЖ!!!!!!!!!!!   (email,) ПОЭТОМУ ЗАПЯТАЯ!!!!\n",
    "row = cur.fetchone()\n",
    "print(row)"
   ]
  },
  {
   "cell_type": "code",
   "execution_count": 45,
   "id": "5529e5f5",
   "metadata": {},
   "outputs": [
    {
     "ename": "SyntaxError",
     "evalue": "invalid syntax (<ipython-input-45-01e183c32e28>, line 1)",
     "output_type": "error",
     "traceback": [
      "\u001b[1;36m  File \u001b[1;32m\"<ipython-input-45-01e183c32e28>\"\u001b[1;36m, line \u001b[1;32m1\u001b[0m\n\u001b[1;33m    Select COUNT(temp_C) from Results;\u001b[0m\n\u001b[1;37m           ^\u001b[0m\n\u001b[1;31mSyntaxError\u001b[0m\u001b[1;31m:\u001b[0m invalid syntax\n"
     ]
    }
   ],
   "source": [
    "Select COUNT(temp_C) from Results;\n",
    "Select COUNT(temp_C) from Results where temp_C > 26;\n",
    "Select DISTINCT temp_C from Results ;    #уникалы"
   ]
  },
  {
   "cell_type": "code",
   "execution_count": 46,
   "id": "be9ef067",
   "metadata": {},
   "outputs": [
    {
     "data": {
      "text/plain": [
       "10"
      ]
     },
     "execution_count": 46,
     "metadata": {},
     "output_type": "execute_result"
    }
   ],
   "source": [
    "cur.execute('Select COUNT(temp_C) from Results ')\n",
    "total_count = cur.fetchone()\n",
    "total_count_rez = total_count[0]\n",
    "total_count_rez"
   ]
  },
  {
   "cell_type": "code",
   "execution_count": 47,
   "id": "ae0dc4d6",
   "metadata": {},
   "outputs": [
    {
     "data": {
      "text/plain": [
       "(4,)"
      ]
     },
     "execution_count": 47,
     "metadata": {},
     "output_type": "execute_result"
    }
   ],
   "source": [
    "cur.execute('Select COUNT(temp_C) from Results where temp_C > 26 ')\n",
    "big26 = cur.fetchone()\n",
    "big26"
   ]
  },
  {
   "cell_type": "code",
   "execution_count": 48,
   "id": "8985a6f0",
   "metadata": {},
   "outputs": [
    {
     "name": "stdout",
     "output_type": "stream",
     "text": [
      "<class 'tuple'>\n"
     ]
    }
   ],
   "source": [
    "print(type(big26))"
   ]
  },
  {
   "cell_type": "code",
   "execution_count": 49,
   "id": "706e0faf",
   "metadata": {},
   "outputs": [
    {
     "name": "stdout",
     "output_type": "stream",
     "text": [
      "Количество получилось 4\n"
     ]
    }
   ],
   "source": [
    "print(\"Количество получилось\", big26[0])"
   ]
  },
  {
   "cell_type": "code",
   "execution_count": 50,
   "id": "51ae70b1",
   "metadata": {},
   "outputs": [
    {
     "data": {
      "text/plain": [
       "[(26.1,), (26.0,), (25.9,), (26.3,)]"
      ]
     },
     "execution_count": 50,
     "metadata": {},
     "output_type": "execute_result"
    }
   ],
   "source": [
    "cur.execute('Select DISTINCT temp_C from Results ')\n",
    "unikC = cur.fetchall()\n",
    "unikC"
   ]
  },
  {
   "cell_type": "code",
   "execution_count": 52,
   "id": "37319c00",
   "metadata": {},
   "outputs": [
    {
     "name": "stdout",
     "output_type": "stream",
     "text": [
      "(26.1,)\n",
      "(26.0,)\n",
      "(25.9,)\n",
      "(26.3,)\n"
     ]
    }
   ],
   "source": [
    "for row in cur.execute('Select DISTINCT temp_C from Results'):\n",
    "        print(row)"
   ]
  },
  {
   "cell_type": "code",
   "execution_count": null,
   "id": "5ceb21a6",
   "metadata": {},
   "outputs": [],
   "source": []
  },
  {
   "cell_type": "code",
   "execution_count": 39,
   "id": "54e9b112",
   "metadata": {},
   "outputs": [
    {
     "data": {
      "text/plain": [
       "10"
      ]
     },
     "execution_count": 39,
     "metadata": {},
     "output_type": "execute_result"
    }
   ],
   "source": []
  },
  {
   "cell_type": "code",
   "execution_count": 32,
   "id": "86aeb26f",
   "metadata": {},
   "outputs": [
    {
     "data": {
      "text/plain": [
       "[(26.1,), (26.0,), (25.9,), (26.3,)]"
      ]
     },
     "execution_count": 32,
     "metadata": {},
     "output_type": "execute_result"
    }
   ],
   "source": []
  },
  {
   "cell_type": "code",
   "execution_count": 34,
   "id": "70fa10ed",
   "metadata": {},
   "outputs": [
    {
     "data": {
      "text/plain": [
       "tuple"
      ]
     },
     "execution_count": 34,
     "metadata": {},
     "output_type": "execute_result"
    }
   ],
   "source": [
    "type(unikC[0])"
   ]
  },
  {
   "cell_type": "code",
   "execution_count": null,
   "id": "fafb346b",
   "metadata": {},
   "outputs": [],
   "source": [
    "cur.executescript(\"\"\"\n",
    "    create table samples(\n",
    "        id,\n",
    "        value\n",
    "    );\n",
    "    insert into samples(id, value)\n",
    "    values (\n",
    "        '123',\n",
    "        'abcdef'\n",
    "    );\n",
    "    \"\"\")"
   ]
  },
  {
   "cell_type": "code",
   "execution_count": null,
   "id": "e8ff881c",
   "metadata": {},
   "outputs": [],
   "source": []
  }
 ],
 "metadata": {
  "kernelspec": {
   "display_name": "Python 3",
   "language": "python",
   "name": "python3"
  },
  "language_info": {
   "codemirror_mode": {
    "name": "ipython",
    "version": 3
   },
   "file_extension": ".py",
   "mimetype": "text/x-python",
   "name": "python",
   "nbconvert_exporter": "python",
   "pygments_lexer": "ipython3",
   "version": "3.8.10"
  }
 },
 "nbformat": 4,
 "nbformat_minor": 5
}
